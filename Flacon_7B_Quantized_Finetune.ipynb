{
  "cells": [
    {
      "cell_type": "code",
      "execution_count": null,
      "metadata": {
        "colab": {
          "base_uri": "https://localhost:8080/"
        },
        "id": "51I_Zi3aoiRk",
        "outputId": "29d6f937-b6ce-4970-f0df-122ef13c8c66"
      },
      "outputs": [],
      "source": [
        "!pip install -q \"transformers==4.31.0\" \"datasets==2.13.0\" \"peft==0.4.0\" \"accelerate==0.21.0\" \"trl\" \"bitsandbytes==0.40.2\" \"einops\""
      ]
    },
    {
      "cell_type": "markdown",
      "metadata": {
        "id": "9BXHyZ6A05QY"
      },
      "source": [
        "**Dataset Processing**"
      ]
    },
    {
      "cell_type": "code",
      "execution_count": 18,
      "metadata": {
        "id": "FIUg2pnN0EqB"
      },
      "outputs": [],
      "source": [
        "INTRO_BLURB = \"Below is an instruction that describes a task. Write python pandas code response that appropriately completes the request.\"\n",
        "INSTRUCTION_KEY = \"### Instruction:\"\n",
        "INPUT_KEY = \"datafrmae columns:\"\n",
        "RESPONSE_KEY = \"### Response:\"\n",
        "END_KEY = \"### End\"\n",
        "\n",
        "PROMPT_NO_INPUT_FORMAT = \"\"\"{intro}\n",
        "\n",
        "{instruction_key}\n",
        "{instruction}\n",
        "\n",
        "{response_key}\n",
        "{response}\n",
        "\n",
        "{end_key}\"\"\".format(\n",
        "  intro=INTRO_BLURB,\n",
        "  instruction_key=INSTRUCTION_KEY,\n",
        "  instruction=\"{instruction}\",\n",
        "  response_key=RESPONSE_KEY,\n",
        "  response=\"{response}\",\n",
        "  end_key=END_KEY\n",
        ")\n",
        "\n",
        "PROMPT_WITH_INPUT_FORMAT = \"\"\"{intro}\n",
        "\n",
        "{instruction_key}\n",
        "{instruction}\n",
        "\n",
        "{input_key}\n",
        "{input}\n",
        "\n",
        "{response_key}\n",
        "{response}\n",
        "\n",
        "{end_key}\"\"\".format(\n",
        "  intro=INTRO_BLURB,\n",
        "  instruction_key=INSTRUCTION_KEY,\n",
        "  instruction=\"{instruction}\",\n",
        "  input_key=INPUT_KEY,\n",
        "  input=\"{input}\",\n",
        "  response_key=RESPONSE_KEY,\n",
        "  response=\"{response}\",\n",
        "  end_key=END_KEY\n",
        ")"
      ]
    },
    {
      "cell_type": "code",
      "execution_count": 16,
      "metadata": {
        "colab": {
          "base_uri": "https://localhost:8080/",
          "height": 449
        },
        "id": "u-t6bszu0Ec1",
        "outputId": "5ab0c5cd-b8c1-4179-ad96-67fc7cff5a95"
      },
      "outputs": [
        {
          "data": {
            "text/html": [
              "\n",
              "  <div id=\"df-696a312d-0aca-49ae-997f-754d06eb5169\" class=\"colab-df-container\">\n",
              "    <div>\n",
              "<style scoped>\n",
              "    .dataframe tbody tr th:only-of-type {\n",
              "        vertical-align: middle;\n",
              "    }\n",
              "\n",
              "    .dataframe tbody tr th {\n",
              "        vertical-align: top;\n",
              "    }\n",
              "\n",
              "    .dataframe thead th {\n",
              "        text-align: right;\n",
              "    }\n",
              "</style>\n",
              "<table border=\"1\" class=\"dataframe\">\n",
              "  <thead>\n",
              "    <tr style=\"text-align: right;\">\n",
              "      <th></th>\n",
              "      <th>Dataset</th>\n",
              "      <th>DataFrame</th>\n",
              "      <th>Columns</th>\n",
              "      <th>Task</th>\n",
              "      <th>Steps</th>\n",
              "      <th>ExpectedCode</th>\n",
              "    </tr>\n",
              "  </thead>\n",
              "  <tbody>\n",
              "    <tr>\n",
              "      <th>0</th>\n",
              "      <td>Sales dataset</td>\n",
              "      <td>df</td>\n",
              "      <td>InvoiceDocDate, CustomerCode, CustomerName, It...</td>\n",
              "      <td>Calculate the average unit price for each item.</td>\n",
              "      <td>Group by 'ItemCode' or 'ItemName'., Compute th...</td>\n",
              "      <td>avg_price_per_item = df.groupby('ItemCode').ag...</td>\n",
              "    </tr>\n",
              "    <tr>\n",
              "      <th>1</th>\n",
              "      <td>Sales dataset</td>\n",
              "      <td>df</td>\n",
              "      <td>InvoiceDocDate, CustomerCode, CustomerName, It...</td>\n",
              "      <td>Find the total quantity sold for each item.</td>\n",
              "      <td>Group by 'ItemCode' or 'ItemName'., Sum the 'Q...</td>\n",
              "      <td>total_quantity_per_item = df.groupby('ItemCode...</td>\n",
              "    </tr>\n",
              "    <tr>\n",
              "      <th>2</th>\n",
              "      <td>Sales dataset</td>\n",
              "      <td>df</td>\n",
              "      <td>InvoiceDocDate, CustomerCode, CustomerName, It...</td>\n",
              "      <td>Identify the date with the highest sales amount.</td>\n",
              "      <td>Group by 'InvoiceDocDate'., Sum the 'TotalAmou...</td>\n",
              "      <td>sales_per_date = df.groupby('InvoiceDocDate')....</td>\n",
              "    </tr>\n",
              "    <tr>\n",
              "      <th>3</th>\n",
              "      <td>Sales dataset</td>\n",
              "      <td>df</td>\n",
              "      <td>InvoiceDocDate, CustomerCode, CustomerName, It...</td>\n",
              "      <td>Compute the total tax collected from sales.</td>\n",
              "      <td>Sum the 'Tax' column.</td>\n",
              "      <td>total_tax_collected = df['Tax'].sum()</td>\n",
              "    </tr>\n",
              "    <tr>\n",
              "      <th>4</th>\n",
              "      <td>Sales dataset</td>\n",
              "      <td>df</td>\n",
              "      <td>InvoiceDocDate, CustomerCode, CustomerName, It...</td>\n",
              "      <td>Determine the item that has been sold to the m...</td>\n",
              "      <td>Group by 'ItemCode' or 'ItemName'., Count the ...</td>\n",
              "      <td>unique_customers_per_item = df.groupby('ItemCo...</td>\n",
              "    </tr>\n",
              "  </tbody>\n",
              "</table>\n",
              "</div>\n",
              "    <div class=\"colab-df-buttons\">\n",
              "\n",
              "  <div class=\"colab-df-container\">\n",
              "    <button class=\"colab-df-convert\" onclick=\"convertToInteractive('df-696a312d-0aca-49ae-997f-754d06eb5169')\"\n",
              "            title=\"Convert this dataframe to an interactive table.\"\n",
              "            style=\"display:none;\">\n",
              "\n",
              "  <svg xmlns=\"http://www.w3.org/2000/svg\" height=\"24px\" viewBox=\"0 -960 960 960\">\n",
              "    <path d=\"M120-120v-720h720v720H120Zm60-500h600v-160H180v160Zm220 220h160v-160H400v160Zm0 220h160v-160H400v160ZM180-400h160v-160H180v160Zm440 0h160v-160H620v160ZM180-180h160v-160H180v160Zm440 0h160v-160H620v160Z\"/>\n",
              "  </svg>\n",
              "    </button>\n",
              "\n",
              "  <style>\n",
              "    .colab-df-container {\n",
              "      display:flex;\n",
              "      gap: 12px;\n",
              "    }\n",
              "\n",
              "    .colab-df-convert {\n",
              "      background-color: #E8F0FE;\n",
              "      border: none;\n",
              "      border-radius: 50%;\n",
              "      cursor: pointer;\n",
              "      display: none;\n",
              "      fill: #1967D2;\n",
              "      height: 32px;\n",
              "      padding: 0 0 0 0;\n",
              "      width: 32px;\n",
              "    }\n",
              "\n",
              "    .colab-df-convert:hover {\n",
              "      background-color: #E2EBFA;\n",
              "      box-shadow: 0px 1px 2px rgba(60, 64, 67, 0.3), 0px 1px 3px 1px rgba(60, 64, 67, 0.15);\n",
              "      fill: #174EA6;\n",
              "    }\n",
              "\n",
              "    .colab-df-buttons div {\n",
              "      margin-bottom: 4px;\n",
              "    }\n",
              "\n",
              "    [theme=dark] .colab-df-convert {\n",
              "      background-color: #3B4455;\n",
              "      fill: #D2E3FC;\n",
              "    }\n",
              "\n",
              "    [theme=dark] .colab-df-convert:hover {\n",
              "      background-color: #434B5C;\n",
              "      box-shadow: 0px 1px 3px 1px rgba(0, 0, 0, 0.15);\n",
              "      filter: drop-shadow(0px 1px 2px rgba(0, 0, 0, 0.3));\n",
              "      fill: #FFFFFF;\n",
              "    }\n",
              "  </style>\n",
              "\n",
              "    <script>\n",
              "      const buttonEl =\n",
              "        document.querySelector('#df-696a312d-0aca-49ae-997f-754d06eb5169 button.colab-df-convert');\n",
              "      buttonEl.style.display =\n",
              "        google.colab.kernel.accessAllowed ? 'block' : 'none';\n",
              "\n",
              "      async function convertToInteractive(key) {\n",
              "        const element = document.querySelector('#df-696a312d-0aca-49ae-997f-754d06eb5169');\n",
              "        const dataTable =\n",
              "          await google.colab.kernel.invokeFunction('convertToInteractive',\n",
              "                                                    [key], {});\n",
              "        if (!dataTable) return;\n",
              "\n",
              "        const docLinkHtml = 'Like what you see? Visit the ' +\n",
              "          '<a target=\"_blank\" href=https://colab.research.google.com/notebooks/data_table.ipynb>data table notebook</a>'\n",
              "          + ' to learn more about interactive tables.';\n",
              "        element.innerHTML = '';\n",
              "        dataTable['output_type'] = 'display_data';\n",
              "        await google.colab.output.renderOutput(dataTable, element);\n",
              "        const docLink = document.createElement('div');\n",
              "        docLink.innerHTML = docLinkHtml;\n",
              "        element.appendChild(docLink);\n",
              "      }\n",
              "    </script>\n",
              "  </div>\n",
              "\n",
              "\n",
              "<div id=\"df-2bef4fa8-f9df-43c4-a1a6-d8cb4eb2e8ec\">\n",
              "  <button class=\"colab-df-quickchart\" onclick=\"quickchart('df-2bef4fa8-f9df-43c4-a1a6-d8cb4eb2e8ec')\"\n",
              "            title=\"Suggest charts.\"\n",
              "            style=\"display:none;\">\n",
              "\n",
              "<svg xmlns=\"http://www.w3.org/2000/svg\" height=\"24px\"viewBox=\"0 0 24 24\"\n",
              "     width=\"24px\">\n",
              "    <g>\n",
              "        <path d=\"M19 3H5c-1.1 0-2 .9-2 2v14c0 1.1.9 2 2 2h14c1.1 0 2-.9 2-2V5c0-1.1-.9-2-2-2zM9 17H7v-7h2v7zm4 0h-2V7h2v10zm4 0h-2v-4h2v4z\"/>\n",
              "    </g>\n",
              "</svg>\n",
              "  </button>\n",
              "\n",
              "<style>\n",
              "  .colab-df-quickchart {\n",
              "    background-color: #E8F0FE;\n",
              "    border: none;\n",
              "    border-radius: 50%;\n",
              "    cursor: pointer;\n",
              "    display: none;\n",
              "    fill: #1967D2;\n",
              "    height: 32px;\n",
              "    padding: 0 0 0 0;\n",
              "    width: 32px;\n",
              "  }\n",
              "\n",
              "  .colab-df-quickchart:hover {\n",
              "    background-color: #E2EBFA;\n",
              "    box-shadow: 0px 1px 2px rgba(60, 64, 67, 0.3), 0px 1px 3px 1px rgba(60, 64, 67, 0.15);\n",
              "    fill: #174EA6;\n",
              "  }\n",
              "\n",
              "  [theme=dark] .colab-df-quickchart {\n",
              "    background-color: #3B4455;\n",
              "    fill: #D2E3FC;\n",
              "  }\n",
              "\n",
              "  [theme=dark] .colab-df-quickchart:hover {\n",
              "    background-color: #434B5C;\n",
              "    box-shadow: 0px 1px 3px 1px rgba(0, 0, 0, 0.15);\n",
              "    filter: drop-shadow(0px 1px 2px rgba(0, 0, 0, 0.3));\n",
              "    fill: #FFFFFF;\n",
              "  }\n",
              "</style>\n",
              "\n",
              "  <script>\n",
              "    async function quickchart(key) {\n",
              "      const charts = await google.colab.kernel.invokeFunction(\n",
              "          'suggestCharts', [key], {});\n",
              "    }\n",
              "    (() => {\n",
              "      let quickchartButtonEl =\n",
              "        document.querySelector('#df-2bef4fa8-f9df-43c4-a1a6-d8cb4eb2e8ec button');\n",
              "      quickchartButtonEl.style.display =\n",
              "        google.colab.kernel.accessAllowed ? 'block' : 'none';\n",
              "    })();\n",
              "  </script>\n",
              "</div>\n",
              "    </div>\n",
              "  </div>\n"
            ],
            "text/plain": [
              "         Dataset DataFrame                                            Columns  \\\n",
              "0  Sales dataset        df  InvoiceDocDate, CustomerCode, CustomerName, It...   \n",
              "1  Sales dataset        df  InvoiceDocDate, CustomerCode, CustomerName, It...   \n",
              "2  Sales dataset        df  InvoiceDocDate, CustomerCode, CustomerName, It...   \n",
              "3  Sales dataset        df  InvoiceDocDate, CustomerCode, CustomerName, It...   \n",
              "4  Sales dataset        df  InvoiceDocDate, CustomerCode, CustomerName, It...   \n",
              "\n",
              "                                                Task  \\\n",
              "0    Calculate the average unit price for each item.   \n",
              "1        Find the total quantity sold for each item.   \n",
              "2   Identify the date with the highest sales amount.   \n",
              "3        Compute the total tax collected from sales.   \n",
              "4  Determine the item that has been sold to the m...   \n",
              "\n",
              "                                               Steps  \\\n",
              "0  Group by 'ItemCode' or 'ItemName'., Compute th...   \n",
              "1  Group by 'ItemCode' or 'ItemName'., Sum the 'Q...   \n",
              "2  Group by 'InvoiceDocDate'., Sum the 'TotalAmou...   \n",
              "3                              Sum the 'Tax' column.   \n",
              "4  Group by 'ItemCode' or 'ItemName'., Count the ...   \n",
              "\n",
              "                                        ExpectedCode  \n",
              "0  avg_price_per_item = df.groupby('ItemCode').ag...  \n",
              "1  total_quantity_per_item = df.groupby('ItemCode...  \n",
              "2  sales_per_date = df.groupby('InvoiceDocDate')....  \n",
              "3              total_tax_collected = df['Tax'].sum()  \n",
              "4  unique_customers_per_item = df.groupby('ItemCo...  "
            ]
          },
          "execution_count": 16,
          "metadata": {},
          "output_type": "execute_result"
        }
      ],
      "source": [
        "import pandas as pd\n",
        "from datasets import Dataset\n",
        "\n",
        "df = pd.read_csv('/content/padnas_code.csv')\n",
        "df.head()"
      ]
    },
    {
      "cell_type": "code",
      "execution_count": 17,
      "metadata": {
        "colab": {
          "base_uri": "https://localhost:8080/"
        },
        "id": "q7T6lxnJ0EVA",
        "outputId": "8161dc02-edaa-4607-a17b-7e12e21064dc"
      },
      "outputs": [
        {
          "data": {
            "text/plain": [
              "Dataset({\n",
              "    features: ['Dataset', 'DataFrame', 'Columns', 'Task', 'Steps', 'ExpectedCode'],\n",
              "    num_rows: 60\n",
              "})"
            ]
          },
          "execution_count": 17,
          "metadata": {},
          "output_type": "execute_result"
        }
      ],
      "source": [
        "dataset = Dataset.from_pandas(df)\n",
        "dataset"
      ]
    },
    {
      "cell_type": "code",
      "execution_count": null,
      "metadata": {
        "colab": {
          "base_uri": "https://localhost:8080/",
          "height": 17,
          "referenced_widgets": [
            "f471455bcfad423ab6dc0e77fd52c1ec",
            "41eb843e8bb64026a168b83f604794b3",
            "08ec290e7eca4a9686902e2eae860560",
            "21a2890b7d6a4381bd4c75014a37fad4",
            "0153b356671a4da79967942a701b3c6f",
            "15e329954a5540c496ac88f4ef712738",
            "026b258b3b5746b89f783593bcf2a819",
            "0f30e38617a0480dbf75ee22b886cc07",
            "136003426a714bddb9d4d88ee37668c4",
            "d5d0c4a7c99b4442851d8b93696a366d",
            "7f85d4e1fcee43f9bc8260e5fc41e762"
          ]
        },
        "id": "c4ZjaB6-0ESM",
        "outputId": "bab7a0a4-cac5-46ea-9169-2b1c754fce4c"
      },
      "outputs": [],
      "source": [
        "def apply_prompt_template(examples):\n",
        "  instruction = examples['Task']\n",
        "  context = examples.get(\"Columns\")\n",
        "  response = examples[\"ExpectedCode\"]\n",
        "\n",
        "  if context:\n",
        "    full_prompt = PROMPT_WITH_INPUT_FORMAT.format(instruction=instruction, response=response, input=context)\n",
        "  else:\n",
        "    full_prompt = PROMPT_NO_INPUT_FORMAT.format(instruction=instruction, response=response)\n",
        "  return { \"text\": full_prompt }\n",
        "\n",
        "dataset = dataset.map(apply_prompt_template)\n"
      ]
    },
    {
      "cell_type": "code",
      "execution_count": 20,
      "metadata": {
        "colab": {
          "base_uri": "https://localhost:8080/"
        },
        "id": "JHMvD2OF0EO2",
        "outputId": "18350e9a-9876-4746-9512-e156de94d9f9"
      },
      "outputs": [
        {
          "name": "stdout",
          "output_type": "stream",
          "text": [
            "Below is an instruction that describes a task. Write python pandas code response that appropriately completes the request.\n",
            "\n",
            "### Instruction:\n",
            "Calculate the average unit price for each item.\n",
            "\n",
            "datafrmae columns:\n",
            "InvoiceDocDate, CustomerCode, CustomerName, ItemCode, ItemName, UnitPrice, Quantity, Discount, Tax, TotalAmount\n",
            "\n",
            "### Response:\n",
            "avg_price_per_item = df.groupby('ItemCode').agg(AverageUnitPrice=('UnitPrice', 'mean'))\n",
            "\n",
            "### End\n"
          ]
        }
      ],
      "source": [
        "print(dataset[\"text\"][0])"
      ]
    },
    {
      "cell_type": "markdown",
      "metadata": {
        "id": "YyOTUuMu2FOw"
      },
      "source": [
        "**Finetune model**"
      ]
    },
    {
      "cell_type": "code",
      "execution_count": null,
      "metadata": {
        "colab": {
          "base_uri": "https://localhost:8080/",
          "height": 401,
          "referenced_widgets": [
            "9942c470206a48d09eaedb78b248c850",
            "d974c5f3095145a5983d817536f9ce7d",
            "aa46b29b617d4fdfa29ba0ae90168a68",
            "7949b6f8111c4e1ab805527bc5d03929",
            "fce712fdc8c64df3ad60ec31e162bc1f",
            "f5ce027bb956451a9f2d50c4f843e4fc",
            "b7b2b62f70684398906dd352df2fb25e",
            "e15d31dff0304359855e1e2ae15694da",
            "2eb9daddc4bc4271ac0b5f38adb5467b",
            "c1721618d6684b6e9fdd59c9932792ee",
            "441eb00fb38946c99a810c396868f5fb",
            "24c894d9b99442ec81cb38264186314f",
            "3fa192c1bbf2496888ec04c5e4c5321e",
            "b881c36054794ffb92450561f7546757",
            "0fa31166a2c944358d55894394828848",
            "29f16e643e93429081313bec9f85d968",
            "1fa82ae8ee3449ef8d4cc129771abf16",
            "55fdd86db9d549348ad07a93ef93adf2",
            "762d7275aa34472db89befcf35d4b261",
            "1cc8b3f300414b4ab4341087e6babd65",
            "952cc4c7e3d044bab7298262cbd61ea1",
            "5abc8135d1a241b889626c702411c84c",
            "47e9a4b44e7f4193aed6e93267dbcbf6",
            "9c66d42a76ef4047886385809e0ad47e",
            "f258c11fdf0f415ab76c3cdcb58ea621",
            "5ae9e633c64948ac96f9c26205055eb6",
            "bae4969b2ae442c4b45dc61b07a96158",
            "3660e05b93fb42a587b4f7a7309c0297",
            "6f6550160fa1443394c7c8e06bd5e775",
            "9418ba167a9c453cb19a8810814c865a",
            "405cb3076e5c40d1be67d69c2c2a7390",
            "f4d6bdb0d52a478d94c992818053bf51",
            "6f33d9b52d7940e49540ddf4bd23f64d",
            "2691656eaac347fb994af078cb7ac61f",
            "89f1a7ac92154544b8f568c9c3aca316",
            "b0b4862214ca48798c453a77e0b328b7",
            "e5af3b343e954ee9bb5bd22118430fe1",
            "c6a5150e4d9744f29e8a0859f9ad7928",
            "2632ecab407249aa93cf4f2a256030c9",
            "3e32038dcfbc46a980c3754dbb9b6c40",
            "c611d03bc0ad4915af6caa4d8a75ab5f",
            "0d4f23b93c434e0aaaa78127c41029fb",
            "a26cd825adc54750a27f501e18996079",
            "21d21fb164c24a17a1f85a5f40af3d33",
            "960752f44479428fbbed1dbbb07359c0",
            "3339a08e0a154ae89ff2fcfa7701b594",
            "87f068829df34aa8ae9cb0fae42565a9",
            "07ba3c70d8f04200a1cab637bdc18585",
            "eb4708452e694d9b917b9e0f4e6a8b6e",
            "a15bf1dd26dc418faf8c8677e1585056",
            "b34b5d4735254a119120cc8466366821",
            "5a77f6c10b9642b1b78e1301bbdd9026",
            "d84af04ba5c14198bf9aa93fa504eba2",
            "ada33b8aa5ef47b4b1270d3e3aa33815",
            "a59ae9975a03461680d814503978be4c",
            "5756f1579ba447e388adf5dfcfed2f9d",
            "50366d9af094402dbd7d990332b1a1ac",
            "0d253395a1a04ec89a5ac7cc5ceb4ee9",
            "4b9b2f212b234da5b11f7631173f9779",
            "8482859c86374ec89d36411194081ba9",
            "8a1eb63e53a2486bb35c251188504083",
            "7163b20481a1453596133d40f0f47726",
            "13120089ad9b4e2d86ff062eae262cd6",
            "ee41cae79f6045518b0e091ed73be058",
            "068384c7e11348c8b2c6786b0bae03f4",
            "0903262e5db9440fad22ee9f833f4368",
            "e285ecca565445f881a7783256f84404",
            "a1aaf6adfafe48499d6a370051fa4bbb",
            "a5e319ad99704ea0879aba3a0de5dfaf",
            "2ab440f01a784086ba95994a9adabced",
            "11360228450342d988e3cdf8ca5ac116",
            "fe0914c202b24c9194f7d97a34aab709",
            "e2f8f6237b69476ab8353194f08158dd",
            "7a3b98f510e549a39b2aac3293e55324",
            "b2e6611d700b491d9c8db006e181bbc8",
            "3194ff4dd648443887b67c9b7383a620",
            "5520884408914f7d9e7f96f5327e9f5f",
            "3654817d9ae44b23b24e521ef1cb7160",
            "ec0efc4045de4cea90eafa5f06a5c1cc",
            "0b84e688762b4cda83858c7525f7fde1",
            "b61422a4573f48c3a8db8ad142100aaf",
            "1aeb97b587784a7fbe7beae97cc31da8",
            "586811203ad143cc93e170f3963ed5f0",
            "0fa674be185246988758be588ef9d907",
            "962bda88b0f2485f808349e8eb4a2399",
            "2eecb74f846c46aa94a18a8e50ab5c59",
            "5239a9ef5dbd4e54b61278f2836391b9",
            "794af84641734bc2828f1f53d594a9d4",
            "fd0c372c33ca4327b11942f2e059a504",
            "10826fded8a24bc9b3560a59ffa91934",
            "b144be0e96e740159f17a216147b75b9",
            "3120635510b2490db1b20c54577b5f8c",
            "3aab446def654971bc1b48f248021327",
            "d9e7196e1f1943f28685256b2ce9b069",
            "417436eee20f49e1967c87fc122b4428",
            "cdabdd2ff4694682b6e6b04b1a8ba173",
            "beee741e570b478987662727ba7a2e97",
            "efe5b9f1ef5b48b69cdcd9f7e911d716",
            "758cbd80179b4ac9bb144b210413fe7b",
            "e27dcb0ad5d94f788c1bccaeb63404a9",
            "c5e633ec1d9e454c84e4aa7e7553c30b",
            "b69f45318b894d38a06993f14489fbc4",
            "f1ee145f4aaf49f0b8d29e2195bbabe9",
            "e622192691b848fab7c5af880a3e25bf",
            "9612962564044536b37268873ef76ef1",
            "24af177b90c14d1c91aab41eafeb7bfb",
            "8731fde2d82643b58eca0ea6dedd2825",
            "0f3ac9e9f08e482faa3f75fa144f533d",
            "5fb2360f00814714a3cd5e74930856d7",
            "b98d5a6d94174cd282346b837cc3dcad",
            "f5423e79209b492fa8548501b45644fe",
            "243511570c7e4624863a57bc9a35206a",
            "5b1e1074377b4d11bb03f1db9e62a2b3",
            "e05bcc1e6ff94a609d4dd98b72e133e1",
            "95eebe6d0fee492bad6c860f55243baf",
            "c4c30bb5128a4d38a10d1c54b2f0aad4",
            "c03d0b09b29345e3a170fb5aadcdf67f",
            "e3fed2ad00364b8cab253644e7f77480",
            "b2a50332f0a94cb09492b0023be627c8",
            "d6d0e83c2e1e4177a1a4363dcdbf1ae6",
            "876866efa2d5437796f6db965da22b57",
            "d8dc37b787284296a1e155236ca29cb8",
            "ccfe4cab7f404988a46806445a3c74ef",
            "9511f846c01f45a6b955481f702b7ef4",
            "f9d3d5a2cf1944e0859a9760e4ad38a5",
            "cb804c8c9b5c4e7fba6ef483e19ecdb7",
            "445d838b10b14818b92fa8fa82ffc29c",
            "668aba1076f8410ba89f539a72c24cb2",
            "7da8baf695864425ad03b50f5f7922da",
            "a96a13659d4d4137bfa06860c65e01dc",
            "722d6cad870c4c47b3ae2c4ffc381dc1",
            "b1c8736900bb443ebedb4912695dfe8b"
          ]
        },
        "id": "7lU5jVQD0ELq",
        "outputId": "ad48b52d-0d60-4ee5-846f-1b4517974255"
      },
      "outputs": [],
      "source": [
        "import torch\n",
        "from transformers import AutoModelForCausalLM, AutoTokenizer, BitsAndBytesConfig, AutoTokenizer\n",
        "\n",
        "model_name = \"ybelkada/falcon-7b-sharded-bf16\"\n",
        "\n",
        "bnb_config = BitsAndBytesConfig(\n",
        "    load_in_4bit=True,\n",
        "    bnb_4bit_quant_type=\"nf4\",\n",
        "    bnb_4bit_compute_dtype=torch.float16,\n",
        ")\n",
        "\n",
        "model = AutoModelForCausalLM.from_pretrained(\n",
        "    model_name,\n",
        "    quantization_config=bnb_config,\n",
        "    trust_remote_code=True\n",
        ")\n",
        "model.config.use_cache = False"
      ]
    },
    {
      "cell_type": "code",
      "execution_count": null,
      "metadata": {
        "colab": {
          "base_uri": "https://localhost:8080/",
          "height": 113,
          "referenced_widgets": [
            "ddba1a8d841e44fd9a89bbae57496b73",
            "bbaab42d62a84608b1e2e0b0d4f321da",
            "ee73f13938254f1fb6dd84bd3235e544",
            "c4f22a9adec3486c98f53967f7dad58a",
            "841f158d7b81452f931f7813e7e6e0c4",
            "fe96968f82f04764a12e6156f3ef83ab",
            "f7db8dc1cd9444ffbf12cafe9cbab41a",
            "700b9c28ac3643b6af38e33cd23d1949",
            "1ff57414597a4d4f83921f624a029681",
            "f26a30ae989f4ab9afc8950526a43bd2",
            "e7084faf976144be8442522c89ba6b96",
            "f1dd60400c8f47aea850a1745d4335dc",
            "38b8f169e4ab420497aad11cfb89e289",
            "16f4235698dd42e19af6eaf7deff3fb8",
            "24646e6323e74512b72270015a0bfe13",
            "ff1a3ec48b83491eb4d73a24f749cc5a",
            "82c77083009b4ca6a88e74b7bf1b8fc9",
            "9070c992f60b44dd877e98efab678e91",
            "de83162abc874b73b93da5b1dbca706d",
            "ee65c3f68091415784415c1bbcc36902",
            "46d92f8564494ef4b240e220dfc3daa0",
            "1c956adabf0343eabf23c9879eba467f",
            "6531bf1ee24c44aea786ff5dbe22f5cd",
            "cca1c1508d93422782e6f0ed0cb3e675",
            "a0266042b61542e0ab4d724ed510dba4",
            "f530e963e78342f194198b7bc87b0376",
            "613a346883a24961a70cb43bd3fdbce7",
            "e0649c5fb077450c844a703be3b07f67",
            "75dfc9a49a6946dc97fb89f56e57cf9d",
            "fd9d382a7b474721a270d19c350ceff2",
            "3b0b61b8e63746cd888e4a28c8f61bf9",
            "dd52652e187648d297d919138834e703",
            "0cb9de1ceb024fa19f1655579f283365"
          ]
        },
        "id": "pk-k-Zfs0EHf",
        "outputId": "24b240b1-82f4-4247-ec19-518543f28ff4"
      },
      "outputs": [],
      "source": [
        "tokenizer = AutoTokenizer.from_pretrained(model_name, trust_remote_code=True)\n",
        "tokenizer.pad_token = tokenizer.eos_token"
      ]
    },
    {
      "cell_type": "code",
      "execution_count": 23,
      "metadata": {
        "id": "DvDGSV_L0EEq"
      },
      "outputs": [],
      "source": [
        "from peft import LoraConfig\n",
        "\n",
        "lora_alpha = 16\n",
        "lora_dropout = 0.1\n",
        "lora_r = 64\n",
        "\n",
        "peft_config = LoraConfig(\n",
        "    lora_alpha=lora_alpha,\n",
        "    lora_dropout=lora_dropout,\n",
        "    r=lora_r,\n",
        "    bias=\"none\",\n",
        "    task_type=\"CAUSAL_LM\",\n",
        "    target_modules=[\n",
        "        \"query_key_value\",\n",
        "        \"dense\",\n",
        "        \"dense_h_to_4h\",\n",
        "        \"dense_4h_to_h\",\n",
        "    ]\n",
        ")"
      ]
    },
    {
      "cell_type": "code",
      "execution_count": 24,
      "metadata": {
        "id": "iKIs2RHV2nqT"
      },
      "outputs": [],
      "source": [
        "from transformers import TrainingArguments\n",
        "\n",
        "output_dir = \"./results\"\n",
        "per_device_train_batch_size = 4\n",
        "gradient_accumulation_steps = 4\n",
        "optim = \"paged_adamw_32bit\"\n",
        "save_steps = 5\n",
        "logging_steps = 1\n",
        "learning_rate = 2e-4\n",
        "max_grad_norm = 0.3\n",
        "max_steps = 30\n",
        "warmup_ratio = 0.03\n",
        "lr_scheduler_type = \"constant\"\n",
        "\n",
        "training_arguments = TrainingArguments(\n",
        "    output_dir=output_dir,\n",
        "    per_device_train_batch_size=per_device_train_batch_size,\n",
        "    gradient_accumulation_steps=gradient_accumulation_steps,\n",
        "    optim=optim,\n",
        "    save_steps=save_steps,\n",
        "    logging_steps=logging_steps,\n",
        "    learning_rate=learning_rate,\n",
        "    fp16=True,\n",
        "    max_grad_norm=max_grad_norm,\n",
        "    max_steps=max_steps,\n",
        "    warmup_ratio=warmup_ratio,\n",
        "    group_by_length=True,\n",
        "    lr_scheduler_type=lr_scheduler_type,\n",
        ")"
      ]
    },
    {
      "cell_type": "code",
      "execution_count": 27,
      "metadata": {
        "colab": {
          "base_uri": "https://localhost:8080/",
          "height": 72,
          "referenced_widgets": [
            "57498e20ddea4bf9906a1aecfdeda7db",
            "286da4acea8246c695cbb8a98b0d841d",
            "27982f40b5ca4fd58414a5e93f0a9701",
            "537dac2378d14136bf6c4d9be0726f86",
            "5378b1fbb29c44ca89c94619091e5b1f",
            "ea049cc06c344aa0acb5f695e2182296",
            "ba0693a5e86942d8802245dc09631b03",
            "1a2b715d9b794b19a9c148432849319e",
            "619c6206341e45d5a34378f01e49dea3",
            "4d6c7da6168f48879d36c5adbfd36620",
            "d4df5a9a0d1c4c9f90bffec0b2885c1a"
          ]
        },
        "id": "kqgXL5G12noW",
        "outputId": "091afc88-41a9-48f3-aeef-6679096859d9"
      },
      "outputs": [
        {
          "name": "stderr",
          "output_type": "stream",
          "text": [
            "/usr/local/lib/python3.10/dist-packages/peft/utils/other.py:102: FutureWarning: prepare_model_for_int8_training is deprecated and will be removed in a future version. Use prepare_model_for_kbit_training instead.\n",
            "  warnings.warn(\n"
          ]
        },
        {
          "data": {
            "application/vnd.jupyter.widget-view+json": {
              "model_id": "57498e20ddea4bf9906a1aecfdeda7db",
              "version_major": 2,
              "version_minor": 0
            },
            "text/plain": [
              "Map:   0%|          | 0/60 [00:00<?, ? examples/s]"
            ]
          },
          "metadata": {},
          "output_type": "display_data"
        }
      ],
      "source": [
        "from trl import SFTTrainer\n",
        "\n",
        "max_seq_length = 512\n",
        "\n",
        "trainer = SFTTrainer(\n",
        "    model=model,\n",
        "    train_dataset=dataset,\n",
        "    peft_config=peft_config,\n",
        "    dataset_text_field=\"text\",\n",
        "    max_seq_length=max_seq_length,\n",
        "    tokenizer=tokenizer,\n",
        "    args=training_arguments,\n",
        ")"
      ]
    },
    {
      "cell_type": "code",
      "execution_count": 28,
      "metadata": {
        "id": "SS91ee7X2nl0"
      },
      "outputs": [],
      "source": [
        "for name, module in trainer.model.named_modules():\n",
        "    if \"norm\" in name:\n",
        "        module = module.to(torch.float32)\n"
      ]
    },
    {
      "cell_type": "code",
      "execution_count": null,
      "metadata": {
        "colab": {
          "base_uri": "https://localhost:8080/",
          "height": 1000
        },
        "id": "jqkd6QJZ2njK",
        "outputId": "2d252979-e650-477b-d322-676f84fd7562"
      },
      "outputs": [],
      "source": [
        "trainer.train()"
      ]
    },
    {
      "cell_type": "markdown",
      "metadata": {
        "id": "y2Dj5LO4-PqR"
      },
      "source": [
        "**Testing**"
      ]
    },
    {
      "cell_type": "code",
      "execution_count": 30,
      "metadata": {
        "id": "fj9nYZfk2ngL"
      },
      "outputs": [],
      "source": [
        "from transformers import pipeline"
      ]
    },
    {
      "cell_type": "code",
      "execution_count": 31,
      "metadata": {
        "colab": {
          "base_uri": "https://localhost:8080/"
        },
        "id": "hWGHChiU4h8-",
        "outputId": "84e14f0a-c4ba-4849-e534-74768c1f10cf"
      },
      "outputs": [
        {
          "name": "stderr",
          "output_type": "stream",
          "text": [
            "Xformers is not installed correctly. If you want to use memory_efficient_attention to accelerate training use the following command to install Xformers\n",
            "pip install xformers.\n"
          ]
        }
      ],
      "source": [
        "pipe = pipeline(task=\"text-generation\", model=model, tokenizer=tokenizer, max_length=250)"
      ]
    },
    {
      "cell_type": "code",
      "execution_count": 32,
      "metadata": {
        "colab": {
          "base_uri": "https://localhost:8080/"
        },
        "id": "cW3zfvRr8UHL",
        "outputId": "f2df5d5d-0fa3-489f-b0d8-78c25ff569c8"
      },
      "outputs": [
        {
          "name": "stderr",
          "output_type": "stream",
          "text": [
            "/usr/local/lib/python3.10/dist-packages/transformers/generation/utils.py:1270: UserWarning: You have modified the pretrained model configuration to control generation. This is a deprecated strategy to control generation and will be removed soon, in a future version. Please use a generation configuration file (see https://huggingface.co/docs/transformers/main_classes/text_generation )\n",
            "  warnings.warn(\n",
            "Setting `pad_token_id` to `eos_token_id`:11 for open-end generation.\n",
            "/usr/local/lib/python3.10/dist-packages/torch/utils/checkpoint.py:31: UserWarning: None of the inputs have requires_grad=True. Gradients will be None\n",
            "  warnings.warn(\"None of the inputs have requires_grad=True. Gradients will be None\")\n"
          ]
        },
        {
          "name": "stdout",
          "output_type": "stream",
          "text": [
            "\n",
            "Below is an instruction that describes a task. Write python pandas code response that appropriately completes the request.\n",
            "\n",
            "### Instruction:\n",
            "Top 5 items in term of sales money\n",
            "\n",
            "datafrmae columns:\n",
            "InvoiceDocDate, CustomerCode, CustomerName, ItemCode, ItemName, UnitPrice, Quantity, Discount, Tax, TotalAmount\n",
            "\n",
            "### Response:\n",
            "sales_by_item_amount = df.groupby('ItemCode').agg(Sales=('UnitPrice','sum'))\n",
            "sales_by_item_percentage = df.groupby('ItemCode').agg(SalesPercentage=('UnitPrice / Quantity', 'divide'))\n",
            "sales_by_item_discount = df.groupby('ItemCode').agg(DiscountPercentage=('Tax / Quantity', 'divide'))\n",
            "sales_by_item_tax = df.groupby('ItemCode').agg(TaxAmount=('Tax / Quantity','mul'))\n",
            "sales_by_item_total_amount = df.groupby('ItemCode').agg(TotalAmount=('Quantity * UnitPrice','mul'))\n",
            "sales\n",
            "None\n"
          ]
        }
      ],
      "source": [
        "prompt = f\"\"\"\n",
        "Below is an instruction that describes a task. Write python pandas code response that appropriately completes the request.\n",
        "\n",
        "### Instruction:\n",
        "Top 5 items in term of sales money\n",
        "\n",
        "datafrmae columns:\n",
        "InvoiceDocDate, CustomerCode, CustomerName, ItemCode, ItemName, UnitPrice, Quantity, Discount, Tax, TotalAmount\n",
        "\n",
        "### Response:\n",
        "\"\"\"\n",
        "\n",
        "\n",
        "result = pipe(prompt)\n",
        "generated_text = result[0]['generated_text']\n",
        "print(print(generated_text.split(\"### End\")[0]))"
      ]
    },
    {
      "cell_type": "code",
      "execution_count": 33,
      "metadata": {
        "colab": {
          "base_uri": "https://localhost:8080/"
        },
        "id": "VQFcIlFO8UKS",
        "outputId": "bd22dbf5-fd51-4db7-bbad-dd15711fc738"
      },
      "outputs": [
        {
          "name": "stderr",
          "output_type": "stream",
          "text": [
            "Setting `pad_token_id` to `eos_token_id`:11 for open-end generation.\n"
          ]
        },
        {
          "name": "stdout",
          "output_type": "stream",
          "text": [
            "\n",
            "Below is an instruction that describes a task. Write python pandas code response that appropriately completes the request.\n",
            "\n",
            "### Instruction:\n",
            "top 5 products has higest discounts\n",
            "\n",
            "datafrmae columns:\n",
            "InvoiceDocDate, CustomerCode, CustomerName, ItemCode, ItemName, UnitPrice, Quantity, Discount, Tax, TotalAmount\n",
            "\n",
            "### Response:\n",
            "discount_per_item = df.groupby('ItemCode').agg(Discount=('Discount','mean')).sort_values(by='Discount', ascending=False)\n",
            "top_discount_items = discount_per_item.head(5)\n",
            "\n",
            "\n",
            "None\n"
          ]
        }
      ],
      "source": [
        "prompt = f\"\"\"\n",
        "Below is an instruction that describes a task. Write python pandas code response that appropriately completes the request.\n",
        "\n",
        "### Instruction:\n",
        "top 5 products has higest discounts\n",
        "\n",
        "datafrmae columns:\n",
        "InvoiceDocDate, CustomerCode, CustomerName, ItemCode, ItemName, UnitPrice, Quantity, Discount, Tax, TotalAmount\n",
        "\n",
        "### Response:\n",
        "\"\"\"\n",
        "\n",
        "\n",
        "result = pipe(prompt)\n",
        "generated_text = result[0]['generated_text']\n",
        "print(print(generated_text.split(\"### End\")[0]))"
      ]
    },
    {
      "cell_type": "code",
      "execution_count": 34,
      "metadata": {
        "colab": {
          "base_uri": "https://localhost:8080/"
        },
        "id": "Bi-fF0mS8UNN",
        "outputId": "c855fb4f-5a7e-48f8-f920-c7b83625a9e9"
      },
      "outputs": [
        {
          "name": "stderr",
          "output_type": "stream",
          "text": [
            "Setting `pad_token_id` to `eos_token_id`:11 for open-end generation.\n"
          ]
        },
        {
          "name": "stdout",
          "output_type": "stream",
          "text": [
            "\n",
            "Below is an instruction that describes a task. Write python pandas code response that appropriately completes the request.\n",
            "\n",
            "### Instruction:\n",
            "how many unique items are there\n",
            "\n",
            "datafrmae columns:\n",
            "InvoiceDocDate, CustomerCode, CustomerName, ItemCode, ItemName, UnitPrice, Quantity, Discount, Tax, TotalAmount\n",
            "\n",
            "### Response:\n",
            "unique_items = df.groupby('CustomerCode').size()\n",
            "\n",
            "\n",
            "None\n"
          ]
        }
      ],
      "source": [
        "pipe = pipeline(task=\"text-generation\", model=model, tokenizer=tokenizer, max_length=250)\n",
        "\n",
        "prompt = f\"\"\"\n",
        "Below is an instruction that describes a task. Write python pandas code response that appropriately completes the request.\n",
        "\n",
        "### Instruction:\n",
        "how many unique items are there\n",
        "\n",
        "datafrmae columns:\n",
        "InvoiceDocDate, CustomerCode, CustomerName, ItemCode, ItemName, UnitPrice, Quantity, Discount, Tax, TotalAmount\n",
        "\n",
        "### Response:\n",
        "\"\"\"\n",
        "\n",
        "\n",
        "result = pipe(prompt)\n",
        "generated_text = result[0]['generated_text']\n",
        "print(print(generated_text.split(\"### End\")[0]))"
      ]
    }
  ],
  "metadata": {
    "accelerator": "GPU",
    "colab": {
      "gpuType": "V100",
      "machine_shape": "hm",
      "provenance": []
    },
    "kernelspec": {
      "display_name": "Python 3",
      "name": "python3"
    },
    "language_info": {
      "name": "python"
    }
  },
  "nbformat": 4,
  "nbformat_minor": 0
}
